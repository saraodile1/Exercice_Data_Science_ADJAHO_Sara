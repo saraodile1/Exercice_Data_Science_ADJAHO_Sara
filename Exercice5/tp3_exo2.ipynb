{
 "cells": [
  {
   "cell_type": "code",
   "execution_count": 2,
   "metadata": {},
   "outputs": [
    {
     "name": "stdout",
     "output_type": "stream",
     "text": [
      "Requirement already satisfied: pandas in c:\\users\\sara\\documents\\imsp\\data science\\exercice_data_science_adjaho_sara\\env\\lib\\site-packages (2.2.3)\n",
      "Requirement already satisfied: numpy in c:\\users\\sara\\documents\\imsp\\data science\\exercice_data_science_adjaho_sara\\env\\lib\\site-packages (2.1.3)\n",
      "Requirement already satisfied: matplotlib in c:\\users\\sara\\documents\\imsp\\data science\\exercice_data_science_adjaho_sara\\env\\lib\\site-packages (3.10.1)\n",
      "Requirement already satisfied: seaborn in c:\\users\\sara\\documents\\imsp\\data science\\exercice_data_science_adjaho_sara\\env\\lib\\site-packages (0.13.2)\n",
      "Requirement already satisfied: openpyxl in c:\\users\\sara\\documents\\imsp\\data science\\exercice_data_science_adjaho_sara\\env\\lib\\site-packages (3.1.5)\n",
      "Requirement already satisfied: python-dateutil>=2.8.2 in c:\\users\\sara\\documents\\imsp\\data science\\exercice_data_science_adjaho_sara\\env\\lib\\site-packages (from pandas) (2.9.0.post0)\n",
      "Requirement already satisfied: pytz>=2020.1 in c:\\users\\sara\\documents\\imsp\\data science\\exercice_data_science_adjaho_sara\\env\\lib\\site-packages (from pandas) (2025.2)\n",
      "Requirement already satisfied: tzdata>=2022.7 in c:\\users\\sara\\documents\\imsp\\data science\\exercice_data_science_adjaho_sara\\env\\lib\\site-packages (from pandas) (2025.2)\n",
      "Requirement already satisfied: contourpy>=1.0.1 in c:\\users\\sara\\documents\\imsp\\data science\\exercice_data_science_adjaho_sara\\env\\lib\\site-packages (from matplotlib) (1.3.1)\n",
      "Requirement already satisfied: cycler>=0.10 in c:\\users\\sara\\documents\\imsp\\data science\\exercice_data_science_adjaho_sara\\env\\lib\\site-packages (from matplotlib) (0.12.1)\n",
      "Requirement already satisfied: fonttools>=4.22.0 in c:\\users\\sara\\documents\\imsp\\data science\\exercice_data_science_adjaho_sara\\env\\lib\\site-packages (from matplotlib) (4.56.0)\n",
      "Requirement already satisfied: kiwisolver>=1.3.1 in c:\\users\\sara\\documents\\imsp\\data science\\exercice_data_science_adjaho_sara\\env\\lib\\site-packages (from matplotlib) (1.4.8)\n",
      "Requirement already satisfied: packaging>=20.0 in c:\\users\\sara\\documents\\imsp\\data science\\exercice_data_science_adjaho_sara\\env\\lib\\site-packages (from matplotlib) (24.2)\n",
      "Requirement already satisfied: pillow>=8 in c:\\users\\sara\\documents\\imsp\\data science\\exercice_data_science_adjaho_sara\\env\\lib\\site-packages (from matplotlib) (11.1.0)\n",
      "Requirement already satisfied: pyparsing>=2.3.1 in c:\\users\\sara\\documents\\imsp\\data science\\exercice_data_science_adjaho_sara\\env\\lib\\site-packages (from matplotlib) (3.2.3)\n",
      "Requirement already satisfied: et-xmlfile in c:\\users\\sara\\documents\\imsp\\data science\\exercice_data_science_adjaho_sara\\env\\lib\\site-packages (from openpyxl) (2.0.0)\n",
      "Requirement already satisfied: six>=1.5 in c:\\users\\sara\\documents\\imsp\\data science\\exercice_data_science_adjaho_sara\\env\\lib\\site-packages (from python-dateutil>=2.8.2->pandas) (1.17.0)\n",
      "Note: you may need to restart the kernel to use updated packages.\n"
     ]
    },
    {
     "name": "stderr",
     "output_type": "stream",
     "text": [
      "\n",
      "[notice] A new release of pip is available: 23.2.1 -> 25.0.1\n",
      "[notice] To update, run: python.exe -m pip install --upgrade pip\n"
     ]
    }
   ],
   "source": [
    "%pip install pandas numpy matplotlib seaborn openpyxl"
   ]
  },
  {
   "cell_type": "code",
   "execution_count": 3,
   "metadata": {},
   "outputs": [],
   "source": [
    "import pandas as pd\n",
    "import numpy as np\n",
    "import matplotlib.pyplot as plt\n",
    "import seaborn as sns\n",
    "from datetime import datetime"
   ]
  },
  {
   "cell_type": "code",
   "execution_count": 4,
   "metadata": {},
   "outputs": [
    {
     "name": "stdout",
     "output_type": "stream",
     "text": [
      "Aperçu des données :\n",
      "                         Transaction ID       Date  \\\n",
      "0  b90c55bf-2a79-431c-bc11-c1b8e764f780 2024-03-27   \n",
      "1  d364d102-0604-4061-b0d2-aeb7d4495504 2024-05-31   \n",
      "2  cfbcc1ff-8eb9-4349-bfee-c845793aec38 2025-01-02   \n",
      "3  5fa27823-888d-42c4-b669-89339e2834fe 2024-08-01   \n",
      "4  ea5fe267-5877-4d3a-a8b5-a07a9659a673 2024-08-06   \n",
      "\n",
      "                              Client ID         Pays     Catégorie  Marque  \\\n",
      "0  2b9afa4c-e1ab-4d05-810c-e2342c26bffa       Gambia        Livres  accept   \n",
      "1  91acae16-626a-4082-8879-fbe94b170368   Madagascar        Maison   quite   \n",
      "2  009f5919-2d4f-4119-8a52-a624fe383028        Samoa     Vêtements   stock   \n",
      "3  2fb01dc7-37de-4c69-95ce-e3a4ee1e34b6  El Salvador  Électronique  garden   \n",
      "4  2e53eaca-a1d5-4eee-9819-3913d296bf01       Cyprus        Maison    song   \n",
      "\n",
      "   Quantité  Prix unitaire (€) Méthode de paiement  Note client  \\\n",
      "0         2              41.20              PayPal          4.0   \n",
      "1         3             354.36              PayPal          3.0   \n",
      "2         5             449.46       Cryptomonnaie          2.0   \n",
      "3         2             136.41              PayPal          3.0   \n",
      "4         4             155.17       Cryptomonnaie          2.0   \n",
      "\n",
      "   Montant total (€)  \n",
      "0              82.40  \n",
      "1            1063.08  \n",
      "2            2247.30  \n",
      "3             272.82  \n",
      "4             620.68  \n",
      "\n",
      "Informations générales :\n",
      "<class 'pandas.core.frame.DataFrame'>\n",
      "RangeIndex: 10000 entries, 0 to 9999\n",
      "Data columns (total 11 columns):\n",
      " #   Column               Non-Null Count  Dtype         \n",
      "---  ------               --------------  -----         \n",
      " 0   Transaction ID       10000 non-null  object        \n",
      " 1   Date                 10000 non-null  datetime64[ns]\n",
      " 2   Client ID            10000 non-null  object        \n",
      " 3   Pays                 10000 non-null  object        \n",
      " 4   Catégorie            10000 non-null  object        \n",
      " 5   Marque               10000 non-null  object        \n",
      " 6   Quantité             10000 non-null  int64         \n",
      " 7   Prix unitaire (€)    10000 non-null  float64       \n",
      " 8   Méthode de paiement  10000 non-null  object        \n",
      " 9   Note client          9514 non-null   float64       \n",
      " 10  Montant total (€)    10000 non-null  float64       \n",
      "dtypes: datetime64[ns](1), float64(3), int64(1), object(6)\n",
      "memory usage: 859.5+ KB\n",
      "None\n"
     ]
    }
   ],
   "source": [
    "# 1. Charger les données dans un DataFrame Pandas et afficher un aperçu général\n",
    "df = pd.read_excel('ecommerce_transactions.xlsx')\n",
    "print(\"Aperçu des données :\")\n",
    "print(df.head())\n",
    "print(\"\\nInformations générales :\")\n",
    "print(df.info())"
   ]
  },
  {
   "cell_type": "code",
   "execution_count": null,
   "metadata": {},
   "outputs": [
    {
     "name": "stdout",
     "output_type": "stream",
     "text": [
      "['Transaction ID', 'Date', 'Client ID', 'Pays', 'Catégorie', 'Marque', 'Quantité', 'Prix unitaire (€)', 'Méthode de paiement', 'Note client', 'Montant total (€)']\n",
      "\n",
      "Dimensions du DataFrame : (10000, 11)\n",
      "\n",
      "Types des colonnes :\n",
      "Transaction ID                 object\n",
      "Date                   datetime64[ns]\n",
      "Client ID                      object\n",
      "Pays                           object\n",
      "Catégorie                      object\n",
      "Marque                         object\n",
      "Quantité                        int64\n",
      "Prix unitaire (€)             float64\n",
      "Méthode de paiement            object\n",
      "Note client                   float64\n",
      "Montant total (€)             float64\n",
      "dtype: object\n"
     ]
    }
   ],
   "source": [
    "# 2. Afficher les dimensions et types de colonnes\n",
    "\n",
    "print(\"\\nDimensions du DataFrame :\", df.shape)\n",
    "print(\"\\nTypes des colonnes :\")\n",
    "print(df.dtypes)"
   ]
  },
  {
   "cell_type": "code",
   "execution_count": null,
   "metadata": {},
   "outputs": [],
   "source": [
    "# 3. Identifier les valeurs manquantes\n",
    "print(\"\\nValeurs manquantes par colonne :\")\n",
    "print(df.isnull().sum())"
   ]
  },
  {
   "cell_type": "code",
   "execution_count": null,
   "metadata": {},
   "outputs": [],
   "source": [
    "# 4. Supprimer les doublons\n",
    "initial_rows = df.shape[0]\n",
    "df = df.drop_duplicates()\n"
   ]
  },
  {
   "cell_type": "code",
   "execution_count": 7,
   "metadata": {},
   "outputs": [],
   "source": [
    "# 5. Créer une colonne 'Année-Mois'\n",
    "df['Date'] = pd.to_datetime(df['Date'])\n",
    "df['Année-Mois'] = df['Date'].dt.to_period('M')"
   ]
  },
  {
   "cell_type": "code",
   "execution_count": null,
   "metadata": {},
   "outputs": [],
   "source": [
    "# 6. Les 5 pays générant le plus de chiffre d'affaires\n",
    "top_countries = df.groupby('Pays')['Montant total (€)'].sum().nlargest(5)\n",
    "print(\"Top 5 pays par chiffre d'affaires :\")\n",
    "print(top_countries)"
   ]
  },
  {
   "cell_type": "code",
   "execution_count": null,
   "metadata": {},
   "outputs": [
    {
     "name": "stdout",
     "output_type": "stream",
     "text": [
      "\n",
      "Chiffre d'affaires par catégorie :\n",
      "Catégorie\n",
      "Beauté          1088611.50\n",
      "Jouets          1077596.12\n",
      "Livres          1095512.08\n",
      "Maison          1129628.11\n",
      "Sport           1085520.34\n",
      "Vêtements       1039763.06\n",
      "Électronique    1089970.04\n",
      "Name: Montant total (€), dtype: float64\n"
     ]
    }
   ],
   "source": [
    "# 7. Chiffre d'affaires par catégorie\n",
    "ca_par_categorie = df.groupby('Catégorie')['Montant total (€)'].sum()\n",
    "print(\"Chiffre d'affaires par catégorie :\")\n",
    "print(ca_par_categorie)"
   ]
  },
  {
   "cell_type": "code",
   "execution_count": null,
   "metadata": {},
   "outputs": [
    {
     "name": "stdout",
     "output_type": "stream",
     "text": [
      "\n",
      "Marques les plus vendues par catégorie :\n",
      "Livres: former (22 unités)\n",
      "Maison: would (21 unités)\n",
      "Vêtements: future (18 unités)\n",
      "Électronique: group (25 unités)\n",
      "Jouets: author (21 unités)\n",
      "Sport: order (26 unités)\n",
      "Beauté: station (27 unités)\n"
     ]
    }
   ],
   "source": [
    "# 8. Marques les plus vendues par catégorie (en quantité)\n",
    "print(\"Marques les plus vendues par catégorie :\")\n",
    "for categorie in df['Catégorie'].unique():\n",
    "    top_brand = df[df['Catégorie'] == categorie].groupby('Marque')['Quantité'].sum().nlargest(1)\n",
    "    print(f\"{categorie}: {top_brand.index[0]} ({top_brand.values[0]} unités)\")"
   ]
  },
  {
   "cell_type": "code",
   "execution_count": null,
   "metadata": {},
   "outputs": [
    {
     "name": "stdout",
     "output_type": "stream",
     "text": [
      "\n",
      "Méthodes de paiement les plus utilisées par pays :\n",
      "Pays\n",
      "Afghanistan                     (Afghanistan, PayPal)\n",
      "Albania                             (Albania, PayPal)\n",
      "Algeria                     (Algeria, Carte bancaire)\n",
      "American Samoa       (American Samoa, Carte bancaire)\n",
      "Andorra                           (Andorra, Virement)\n",
      "                                   ...               \n",
      "Wallis and Futuna       (Wallis and Futuna, Virement)\n",
      "Western Sahara               (Western Sahara, PayPal)\n",
      "Yemen                          (Yemen, Cryptomonnaie)\n",
      "Zambia                               (Zambia, PayPal)\n",
      "Zimbabwe                         (Zimbabwe, Virement)\n",
      "Length: 243, dtype: object\n"
     ]
    }
   ],
   "source": [
    "# 9. Méthodes de paiement les plus utilisées par pays\n",
    "print(\"Méthodes de paiement les plus utilisées par pays :\")\n",
    "top_payment_by_country = df.groupby(['Pays', 'Méthode de paiement']).size().groupby('Pays').idxmax()\n",
    "print(top_payment_by_country)"
   ]
  },
  {
   "cell_type": "code",
   "execution_count": 12,
   "metadata": {},
   "outputs": [
    {
     "name": "stdout",
     "output_type": "stream",
     "text": [
      "\n",
      "Dépense moyenne par client : 760.660125\n",
      "\n",
      "Top 10 clients par chiffre d'affaires :\n",
      "Client ID\n",
      "54dd8f81-9694-4b08-9ec3-b9b1ce7c71dd    2499.30\n",
      "57ac7dde-87ab-4bc6-b1c9-8ef1f50043f2    2499.15\n",
      "ac37e848-e0b4-4b99-bd1d-545d3ae6e2a4    2498.85\n",
      "2d0f2807-6e64-47d6-89ca-c453497be584    2498.75\n",
      "6125eb8b-7eec-4a21-852a-5251693005a5    2498.50\n",
      "3e70243c-dc08-456c-a73f-81d1c6e2a508    2497.30\n",
      "f442ea40-3616-496c-abce-d55afda46d7d    2495.95\n",
      "cf00aa12-decc-41fa-baa5-4f28c45a95a5    2494.70\n",
      "56aeeaa9-bbaa-400e-b685-20292ed23167    2492.65\n",
      "6408b7f1-59a8-4d7c-811d-6fa2b800ff5c    2492.20\n",
      "Name: Montant total (€), dtype: float64\n"
     ]
    }
   ],
   "source": [
    "# 10. Dépense moyenne par client et top 10 clients\n",
    "depense_moyenne = df.groupby('Client ID')['Montant total (€)'].mean()\n",
    "top_clients = df.groupby('Client ID')['Montant total (€)'].sum().nlargest(10)\n",
    "print(\"\\nDépense moyenne par client :\", depense_moyenne.mean())\n",
    "print(\"\\nTop 10 clients par chiffre d'affaires :\")\n",
    "print(top_clients)"
   ]
  },
  {
   "cell_type": "code",
   "execution_count": 13,
   "metadata": {},
   "outputs": [
    {
     "name": "stdout",
     "output_type": "stream",
     "text": [
      "\n",
      "Note moyenne par catégorie :\n",
      "Catégorie\n",
      "Beauté          3.219279\n",
      "Jouets          3.201481\n",
      "Livres          3.229378\n",
      "Maison          3.218635\n",
      "Sport           3.172465\n",
      "Vêtements       3.210256\n",
      "Électronique    3.218006\n",
      "Name: Note client, dtype: float64\n",
      "\n",
      "Note moyenne par pays :\n",
      "Pays\n",
      "Afghanistan          3.170732\n",
      "Albania              3.081633\n",
      "Algeria              3.645161\n",
      "American Samoa       3.326087\n",
      "Andorra              3.214286\n",
      "                       ...   \n",
      "Wallis and Futuna    3.363636\n",
      "Western Sahara       3.621622\n",
      "Yemen                3.200000\n",
      "Zambia               3.463415\n",
      "Zimbabwe             3.422222\n",
      "Name: Note client, Length: 243, dtype: float64\n"
     ]
    }
   ],
   "source": [
    "# 11. Note moyenne par catégorie de marque et par pays\n",
    "note_moyenne_categorie = df.groupby('Catégorie')['Note client'].mean()\n",
    "note_moyenne_pays = df.groupby('Pays')['Note client'].mean()\n",
    "print(\"\\nNote moyenne par catégorie :\")\n",
    "print(note_moyenne_categorie)\n",
    "print(\"\\nNote moyenne par pays :\")\n",
    "print(note_moyenne_pays)"
   ]
  },
  {
   "cell_type": "code",
   "execution_count": 14,
   "metadata": {},
   "outputs": [
    {
     "name": "stdout",
     "output_type": "stream",
     "text": [
      "\n",
      "Commandes sans note : 486\n",
      "\n",
      "Répartition par catégorie :\n",
      "Catégorie\n",
      "Beauté          76\n",
      "Électronique    74\n",
      "Sport           74\n",
      "Maison          73\n",
      "Livres          70\n",
      "Vêtements       64\n",
      "Jouets          55\n",
      "Name: count, dtype: int64\n",
      "\n",
      "Répartition par pays :\n",
      "Pays\n",
      "Norfolk Island           7\n",
      "Taiwan                   6\n",
      "Rwanda                   6\n",
      "French Guiana            6\n",
      "Eritrea                  6\n",
      "Cuba                     6\n",
      "Sao Tome and Principe    5\n",
      "Brazil                   5\n",
      "Mali                     5\n",
      "Yemen                    5\n",
      "Name: count, dtype: int64\n"
     ]
    }
   ],
   "source": [
    "# 12. Commandes avec note manquante\n",
    "commandes_sans_note = df[df['Note client'].isnull()]\n",
    "print(\"\\nCommandes sans note :\", len(commandes_sans_note))\n",
    "if not commandes_sans_note.empty:\n",
    "    print(\"\\nRépartition par catégorie :\")\n",
    "    print(commandes_sans_note['Catégorie'].value_counts())\n",
    "    print(\"\\nRépartition par pays :\")\n",
    "    print(commandes_sans_note['Pays'].value_counts().head(10))"
   ]
  },
  {
   "cell_type": "code",
   "execution_count": 15,
   "metadata": {},
   "outputs": [
    {
     "name": "stdout",
     "output_type": "stream",
     "text": [
      "\n",
      "Statistiques des montants :\n",
      "Moyenne : 760.660125\n",
      "Médiane : 605.4749999999999\n",
      "Écart-type : 595.9200987235239\n",
      "Percentiles (25%, 50%, 75%) : [ 280.995  605.475 1142.76 ]\n"
     ]
    }
   ],
   "source": [
    "# 13. Statistiques des montants avec NumPy\n",
    "montants = df['Montant total (€)'].values\n",
    "print(\"\\nStatistiques des montants :\")\n",
    "print(\"Moyenne :\", np.mean(montants))\n",
    "print(\"Médiane :\", np.median(montants))\n",
    "print(\"Écart-type :\", np.std(montants))\n",
    "print(\"Percentiles (25%, 50%, 75%) :\", np.percentile(montants, [25, 50, 75]))"
   ]
  },
  {
   "cell_type": "code",
   "execution_count": 16,
   "metadata": {},
   "outputs": [
    {
     "name": "stdout",
     "output_type": "stream",
     "text": [
      "\n",
      "Nombre de clients fidèles : 0\n"
     ]
    }
   ],
   "source": [
    "# 14. Colonne 'Client fidèle'\n",
    "commandes_par_client = df['Client ID'].value_counts()\n",
    "df['Client fidèle'] = df['Client ID'].map(lambda x: commandes_par_client[x] > 5)\n",
    "print(\"\\nNombre de clients fidèles :\", df['Client fidèle'].sum())"
   ]
  },
  {
   "cell_type": "code",
   "execution_count": 17,
   "metadata": {},
   "outputs": [],
   "source": [
    "# 15. Graphique du chiffre d'affaires mensuel\n",
    "ca_mensuel = df.groupby('Année-Mois')['Montant total (€)'].sum()\n",
    "ca_mensuel.plot(kind='bar', figsize=(12, 6))\n",
    "plt.title('Chiffre d\\'affaires mensuel')\n",
    "plt.ylabel('Montant total (€)')\n",
    "plt.xlabel('Mois')\n",
    "plt.tight_layout()\n",
    "plt.savefig('ca_mensuel.png')\n",
    "plt.close()"
   ]
  },
  {
   "cell_type": "code",
   "execution_count": 18,
   "metadata": {},
   "outputs": [],
   "source": [
    "# 16. Pie chart des ventes par catégorie\n",
    "ca_par_categorie.plot(kind='pie', autopct='%1.1f%%', figsize=(8, 8))\n",
    "plt.title('Répartition des ventes par catégorie')\n",
    "plt.ylabel('')\n",
    "plt.tight_layout()\n",
    "plt.savefig('ventes_par_categorie.png')\n",
    "plt.close()"
   ]
  },
  {
   "cell_type": "code",
   "execution_count": 19,
   "metadata": {},
   "outputs": [],
   "source": [
    "# 17. Boxplot des montants par méthode de paiement\n",
    "plt.figure(figsize=(10, 6))\n",
    "sns.boxplot(x='Méthode de paiement', y='Montant total (€)', data=df)\n",
    "plt.title('Distribution des montants par méthode de paiement')\n",
    "plt.tight_layout()\n",
    "plt.savefig('montants_par_paiement.png')\n",
    "plt.close()"
   ]
  },
  {
   "cell_type": "code",
   "execution_count": 20,
   "metadata": {},
   "outputs": [],
   "source": [
    "# 18. Heatmap des notes moyennes (exemple simplifié)\n",
    "# Note: Avec beaucoup de pays, on peut sélectionner les principaux\n",
    "top_10_pays = df['Pays'].value_counts().nlargest(10).index\n",
    "df_top_pays = df[df['Pays'].isin(top_10_pays)]\n",
    "pivot_table = pd.pivot_table(df_top_pays, values='Note client', \n",
    "                           index='Pays', columns='Catégorie', aggfunc='mean')\n",
    "plt.figure(figsize=(12, 8))\n",
    "sns.heatmap(pivot_table, annot=True, cmap='YlGnBu')\n",
    "plt.title('Notes moyennes par pays et catégorie (top 10 pays)')\n",
    "plt.tight_layout()\n",
    "plt.savefig('notes_heatmap.png')\n",
    "plt.close()"
   ]
  },
  {
   "cell_type": "code",
   "execution_count": 21,
   "metadata": {},
   "outputs": [],
   "source": [
    "# 19. Scatter plot quantité vs montant total\n",
    "plt.figure(figsize=(10, 6))\n",
    "plt.scatter(df['Quantité'], df['Montant total (€)'], alpha=0.5)\n",
    "plt.title('Relation entre quantité et montant total')\n",
    "plt.xlabel('Quantité')\n",
    "plt.ylabel('Montant total (€)')\n",
    "plt.tight_layout()\n",
    "plt.savefig('quantite_vs_montant.png')\n",
    "plt.close()"
   ]
  },
  {
   "cell_type": "code",
   "execution_count": 22,
   "metadata": {},
   "outputs": [
    {
     "name": "stdout",
     "output_type": "stream",
     "text": [
      "\n",
      "Nettoyage terminé et données sauvegardées dans 'ecommerce_transactions_clean.xlsx'\n"
     ]
    }
   ],
   "source": [
    "# 20. Sauvegarder le DataFrame nettoyé\n",
    "# Traitement des valeurs manquantes\n",
    "df['Note client'] = df.groupby('Catégorie')['Note client'].transform(lambda x: x.fillna(x.median()))\n",
    "df = df.dropna(subset=['Pays', 'Catégorie', 'Méthode de paiement'])\n",
    "\n",
    "df.to_excel('ecommerce_transactions_clean.xlsx', index=False)\n",
    "print(\"\\nNettoyage terminé et données sauvegardées dans 'ecommerce_transactions_clean.xlsx'\")"
   ]
  }
 ],
 "metadata": {
  "kernelspec": {
   "display_name": "env",
   "language": "python",
   "name": "python3"
  },
  "language_info": {
   "codemirror_mode": {
    "name": "ipython",
    "version": 3
   },
   "file_extension": ".py",
   "mimetype": "text/x-python",
   "name": "python",
   "nbconvert_exporter": "python",
   "pygments_lexer": "ipython3",
   "version": "3.12.1"
  }
 },
 "nbformat": 4,
 "nbformat_minor": 2
}
