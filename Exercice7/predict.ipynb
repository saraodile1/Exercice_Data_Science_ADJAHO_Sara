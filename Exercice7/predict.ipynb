{
 "cells": [
  {
   "cell_type": "code",
   "execution_count": 1,
   "id": "8d8644ec",
   "metadata": {},
   "outputs": [
    {
     "name": "stdout",
     "output_type": "stream",
     "text": [
      "Requirement already satisfied: openpyxl in c:\\users\\sara\\documents\\imsp\\data science\\exercice_data_science_adjaho_sara\\env\\lib\\site-packages (3.1.5)\n",
      "Requirement already satisfied: pandas in c:\\users\\sara\\documents\\imsp\\data science\\exercice_data_science_adjaho_sara\\env\\lib\\site-packages (2.2.3)\n",
      "Requirement already satisfied: et-xmlfile in c:\\users\\sara\\documents\\imsp\\data science\\exercice_data_science_adjaho_sara\\env\\lib\\site-packages (from openpyxl) (2.0.0)\n",
      "Requirement already satisfied: numpy>=1.26.0 in c:\\users\\sara\\documents\\imsp\\data science\\exercice_data_science_adjaho_sara\\env\\lib\\site-packages (from pandas) (2.1.3)\n",
      "Requirement already satisfied: python-dateutil>=2.8.2 in c:\\users\\sara\\documents\\imsp\\data science\\exercice_data_science_adjaho_sara\\env\\lib\\site-packages (from pandas) (2.9.0.post0)\n",
      "Requirement already satisfied: pytz>=2020.1 in c:\\users\\sara\\documents\\imsp\\data science\\exercice_data_science_adjaho_sara\\env\\lib\\site-packages (from pandas) (2025.2)\n",
      "Requirement already satisfied: tzdata>=2022.7 in c:\\users\\sara\\documents\\imsp\\data science\\exercice_data_science_adjaho_sara\\env\\lib\\site-packages (from pandas) (2025.2)\n",
      "Requirement already satisfied: six>=1.5 in c:\\users\\sara\\documents\\imsp\\data science\\exercice_data_science_adjaho_sara\\env\\lib\\site-packages (from python-dateutil>=2.8.2->pandas) (1.17.0)\n",
      "Note: you may need to restart the kernel to use updated packages.\n"
     ]
    }
   ],
   "source": [
    "%pip install openpyxl pandas  "
   ]
  },
  {
   "cell_type": "code",
   "execution_count": 2,
   "id": "e3e08e3e",
   "metadata": {},
   "outputs": [],
   "source": [
    "import pandas as pd\n",
    "from sklearn.model_selection import train_test_split\n",
    "from sklearn.preprocessing import OneHotEncoder\n",
    "from sklearn.linear_model import LinearRegression\n",
    "import numpy as np\n",
    "import matplotlib.pyplot as plt\n",
    "from sklearn.metrics import mean_squared_error, mean_absolute_error,r2_score\n"
   ]
  },
  {
   "cell_type": "code",
   "execution_count": 3,
   "id": "0b30e9db",
   "metadata": {},
   "outputs": [],
   "source": [
    "df = pd.read_excel('employes_dataset.xlsx', engine=\"openpyxl\")\n"
   ]
  },
  {
   "cell_type": "code",
   "execution_count": 4,
   "id": "5ff6fb96",
   "metadata": {},
   "outputs": [
    {
     "name": "stdout",
     "output_type": "stream",
     "text": [
      "['ID', 'Nom', 'Prénom', 'Âge', 'Sexe', 'Email', 'Pays', 'Ville', 'Salaire (€)', \"Date d'embauche\", 'Département', 'Télétravail (%)', 'Performance (Note)']\n"
     ]
    }
   ],
   "source": [
    "print(df.columns.tolist())"
   ]
  },
  {
   "cell_type": "code",
   "execution_count": 5,
   "id": "566d7878",
   "metadata": {},
   "outputs": [],
   "source": [
    "new_data = df.dropna(subset= [lone for lone in df.columns if lone!=\"Télétravail (%)\"])"
   ]
  },
  {
   "cell_type": "code",
   "execution_count": 6,
   "id": "1a2f7feb",
   "metadata": {},
   "outputs": [],
   "source": [
    "df_manq= new_data[new_data[\"Télétravail (%)\"].isna()]\n",
    "df_compl=new_data[new_data[\"Télétravail (%)\"].notna()]"
   ]
  },
  {
   "cell_type": "code",
   "execution_count": 7,
   "id": "f93be88e",
   "metadata": {},
   "outputs": [
    {
     "name": "stderr",
     "output_type": "stream",
     "text": [
      "C:\\Users\\SARA\\AppData\\Local\\Temp\\ipykernel_16368\\3187482896.py:1: SettingWithCopyWarning: \n",
      "A value is trying to be set on a copy of a slice from a DataFrame.\n",
      "Try using .loc[row_indexer,col_indexer] = value instead\n",
      "\n",
      "See the caveats in the documentation: https://pandas.pydata.org/pandas-docs/stable/user_guide/indexing.html#returning-a-view-versus-a-copy\n",
      "  df_compl[\"Date d'embauche\"] = pd.to_datetime(df_compl[\"Date d'embauche\"])\n",
      "C:\\Users\\SARA\\AppData\\Local\\Temp\\ipykernel_16368\\3187482896.py:2: SettingWithCopyWarning: \n",
      "A value is trying to be set on a copy of a slice from a DataFrame.\n",
      "Try using .loc[row_indexer,col_indexer] = value instead\n",
      "\n",
      "See the caveats in the documentation: https://pandas.pydata.org/pandas-docs/stable/user_guide/indexing.html#returning-a-view-versus-a-copy\n",
      "  df_compl['year'] = df_compl[\"Date d'embauche\"].dt.year\n",
      "C:\\Users\\SARA\\AppData\\Local\\Temp\\ipykernel_16368\\3187482896.py:3: SettingWithCopyWarning: \n",
      "A value is trying to be set on a copy of a slice from a DataFrame.\n",
      "Try using .loc[row_indexer,col_indexer] = value instead\n",
      "\n",
      "See the caveats in the documentation: https://pandas.pydata.org/pandas-docs/stable/user_guide/indexing.html#returning-a-view-versus-a-copy\n",
      "  df_compl['month'] = df_compl[\"Date d'embauche\"].dt.month\n",
      "C:\\Users\\SARA\\AppData\\Local\\Temp\\ipykernel_16368\\3187482896.py:4: SettingWithCopyWarning: \n",
      "A value is trying to be set on a copy of a slice from a DataFrame.\n",
      "Try using .loc[row_indexer,col_indexer] = value instead\n",
      "\n",
      "See the caveats in the documentation: https://pandas.pydata.org/pandas-docs/stable/user_guide/indexing.html#returning-a-view-versus-a-copy\n",
      "  df_compl['day'] = df_compl[\"Date d'embauche\"].dt.day\n",
      "C:\\Users\\SARA\\AppData\\Local\\Temp\\ipykernel_16368\\3187482896.py:5: SettingWithCopyWarning: \n",
      "A value is trying to be set on a copy of a slice from a DataFrame\n",
      "\n",
      "See the caveats in the documentation: https://pandas.pydata.org/pandas-docs/stable/user_guide/indexing.html#returning-a-view-versus-a-copy\n",
      "  df_compl.drop(columns=[\"Date d'embauche\"],axis=1, inplace=True)\n"
     ]
    }
   ],
   "source": [
    "df_compl[\"Date d'embauche\"] = pd.to_datetime(df_compl[\"Date d'embauche\"])\n",
    "df_compl['year'] = df_compl[\"Date d'embauche\"].dt.year\n",
    "df_compl['month'] = df_compl[\"Date d'embauche\"].dt.month\n",
    "df_compl['day'] = df_compl[\"Date d'embauche\"].dt.day\n",
    "df_compl.drop(columns=[\"Date d'embauche\"],axis=1, inplace=True)"
   ]
  },
  {
   "cell_type": "code",
   "execution_count": 8,
   "id": "98492ac5",
   "metadata": {},
   "outputs": [],
   "source": [
    "#encodage\n",
    "encoder = OneHotEncoder(sparse_output=False)\n",
    "feactures_col = ['Nom', 'Prénom', 'Sexe', 'Email', 'Pays', 'Ville', 'Département']\n",
    "encoded_categorielle = encoder.fit_transform(df_compl[feactures_col])\n",
    "encoded_df = pd.DataFrame(encoded_categorielle, columns=encoder.get_feature_names_out(feactures_col))\n",
    "encoded_df.index = df_compl.index\n",
    "df_compl = pd.concat([df_compl, encoded_df], axis=1)\n",
    "df_compl.drop(columns=feactures_col, axis=1, inplace=True)"
   ]
  },
  {
   "cell_type": "code",
   "execution_count": 9,
   "id": "77ba59b0",
   "metadata": {},
   "outputs": [],
   "source": [
    "X = df_compl.drop(columns=['Télétravail (%)'],axis=1)\n",
    "y = df_compl['Télétravail (%)']"
   ]
  },
  {
   "cell_type": "code",
   "execution_count": 10,
   "id": "f9b99001",
   "metadata": {},
   "outputs": [],
   "source": [
    "X_train, X_test, y_train, y_test = train_test_split(X, y, test_size=0.2, random_state=42)"
   ]
  },
  {
   "cell_type": "code",
   "execution_count": 11,
   "id": "64d9cdce",
   "metadata": {},
   "outputs": [
    {
     "name": "stdout",
     "output_type": "stream",
     "text": [
      "Predictions:  [20.51 50.87 50.66 70.5  53.72 32.18 45.57 37.78 48.25 55.65]\n",
      "y_test:  [20.0, 20.0, 80.0, 0.0, 20.0, 80.0, 100.0, 100.0, 40.0, 60.0]\n"
     ]
    }
   ],
   "source": [
    "model = LinearRegression()\n",
    "model.fit(X_train, y_train)\n",
    "y_pred = model.predict(X_test).round(2)\n",
    "\n",
    "print(\"Predictions: \", y_pred[:10]) #affiche les 10 premières prédictions\n",
    "#conversion en liste\n",
    "\n",
    "print(\"y_test: \", list(y_test[:10]))"
   ]
  },
  {
   "cell_type": "code",
   "execution_count": 12,
   "id": "4c4218a1",
   "metadata": {},
   "outputs": [
    {
     "name": "stdout",
     "output_type": "stream",
     "text": [
      "Coefficient de la taille: [ 1.92829609e-03 -1.04169838e-01  1.24830120e-04 ... -3.57227068e+00\n",
      "  2.16057903e+00 -4.85551171e-02]\n",
      "Ordonnée à l'origine: -24.364731897739887\n"
     ]
    }
   ],
   "source": [
    "print(\"Coefficient de la taille:\", model.coef_)\n",
    "print(\"Ordonnée à l'origine:\", model.intercept_)    \n"
   ]
  },
  {
   "cell_type": "code",
   "execution_count": 13,
   "id": "681a5089",
   "metadata": {},
   "outputs": [
    {
     "name": "stdout",
     "output_type": "stream",
     "text": [
      "Erreur quadratique moyenne/MSE: 1242.2648877777779\n",
      "Erreur absolue moyenne /(MAE) : 29.805444444444444\n",
      "Erreur R2 -0.12843251628892816\n"
     ]
    }
   ],
   "source": [
    "print(\"Erreur quadratique moyenne/MSE:\",mean_squared_error(y_test,y_pred))\n",
    "\n",
    "print(\"Erreur absolue moyenne /(MAE) :\",mean_absolute_error(y_test,y_pred))\n",
    "print(\"Erreur R2\",r2_score(y_test,y_pred) )"
   ]
  },
  {
   "cell_type": "markdown",
   "id": "5d491418",
   "metadata": {},
   "source": [
    "Valeur Manquante"
   ]
  },
  {
   "cell_type": "code",
   "execution_count": null,
   "id": "f53d834b",
   "metadata": {},
   "outputs": [],
   "source": [
    "df_manq[\"Date d'embauche\"] = pd.to_datetime(df_manq[\"Date d'embauche\"])\n",
    "df_manq['year'] = df_manq[\"Date d'embauche\"].dt.year\n",
    "df_manq['month'] = df_manq[\"Date d'embauche\"].dt.month\n",
    "df_manq['day'] = df_manq[\"Date d'embauche\"].dt.day\n",
    "df_manq.drop(columns=[\"Date d'embauche\"],axis=1, inplace=True)"
   ]
  },
  {
   "cell_type": "code",
   "execution_count": 15,
   "id": "f18a0220",
   "metadata": {},
   "outputs": [],
   "source": [
    "#encodage\n",
    "encoder = OneHotEncoder(sparse_output=False)\n",
    "feactures_col = ['Nom', 'Prénom', 'Sexe', 'Email', 'Pays', 'Ville', 'Département']\n",
    "encoded_categorielle = encoder.fit_transform(df_manq[feactures_col])\n",
    "encoded_df = pd.DataFrame(encoded_categorielle, columns=encoder.get_feature_names_out(feactures_col))\n",
    "encoded_df.index = df_manq.index\n",
    "df_manq = pd.concat([df_manq, encoded_df], axis=1)\n",
    "df_manq.drop(columns=feactures_col, axis=1, inplace=True)"
   ]
  },
  {
   "cell_type": "code",
   "execution_count": 23,
   "id": "de0f6269",
   "metadata": {},
   "outputs": [
    {
     "data": {
      "text/plain": [
       "ID                           0\n",
       "Âge                          0\n",
       "Salaire (€)                  0\n",
       "Télétravail (%)             49\n",
       "Performance (Note)           0\n",
       "                            ..\n",
       "Département_Informatique     0\n",
       "Département_Logistique       0\n",
       "Département_Marketing        0\n",
       "Département_Production       0\n",
       "Département_RH               0\n",
       "Length: 246, dtype: int64"
      ]
     },
     "execution_count": 23,
     "metadata": {},
     "output_type": "execute_result"
    }
   ],
   "source": [
    "df_manq.isna().sum()"
   ]
  },
  {
   "cell_type": "code",
   "execution_count": 21,
   "id": "7413fb37",
   "metadata": {},
   "outputs": [],
   "source": [
    "X_df_Manq = df_compl.drop(columns=['Télétravail (%)'],axis=1)"
   ]
  },
  {
   "cell_type": "code",
   "execution_count": 26,
   "id": "01fcec64",
   "metadata": {},
   "outputs": [
    {
     "name": "stdout",
     "output_type": "stream",
     "text": [
      "[  0.     0.    60.   100.    -0.    67.32  20.    40.    80.    20.\n",
      "   9.81  80.    80.    20.    80.    80.   100.   100.   100.   100.\n",
      "  20.   100.   100.    44.44  60.    12.36  80.    60.    80.     0.\n",
      "  31.08  63.27  40.    60.    40.     0.    80.   100.    80.    53.72\n",
      "  -0.     0.    -0.    80.    54.61  80.    -0.    60.    20.    51.3\n",
      "  -0.    60.     0.    -0.    57.93  40.    40.   100.    40.    -0.\n",
      "  20.   100.    20.    46.19  20.    40.33  52.38  65.07  20.    20.\n",
      "  41.6   20.    43.98  40.    80.    60.    39.71  49.57  54.18  40.\n",
      "   0.    60.    20.83 100.    45.89  60.    46.7   -0.    20.    20.\n",
      "  40.   100.    80.    20.    20.    -0.    46.91  46.73  -0.    60.\n",
      "  40.    60.    40.    80.    20.    80.    60.    60.    40.    42.33\n",
      "  62.09  60.    60.    60.    20.    20.    40.    60.    80.    20.\n",
      "  73.19  20.    40.    -0.    60.   100.    20.     0.    80.    20.\n",
      "  -0.    20.    40.    20.    20.    20.    55.65  47.52  60.    30.26\n",
      "   0.    52.35  20.    40.    20.    40.    60.    20.    40.   100.\n",
      "   0.    80.    40.    20.    60.    20.     0.    20.    20.    80.\n",
      "  80.     0.    80.    20.    20.    51.62 100.   100.    29.6  100.\n",
      "  40.   100.    -0.    20.    62.24   0.    -0.    40.    40.   100.\n",
      " 100.     0.    20.    -0.   100.    40.     0.    80.    -0.     0.\n",
      "  40.    20.    31.75  60.    20.    40.    49.2   60.    38.6   60.\n",
      "  60.   100.    60.     0.    37.79  60.     0.    -0.    41.07  48.25\n",
      "  42.02  16.85 100.    29.71  80.    39.97  20.    60.    46.96  20.\n",
      "  20.    40.    40.    -0.    60.    80.    80.    30.86  -0.    80.\n",
      "   0.    50.46 100.    20.    80.    47.8    0.    60.    60.    48.11\n",
      "  40.    20.     0.    20.    70.5   80.     0.    20.    80.   100.\n",
      "  57.94  60.     0.   100.    20.     0.    -0.    60.    40.     6.89\n",
      "  40.88  20.    60.   100.    60.   100.    62.45  40.    -0.    -0.\n",
      "  20.    20.    80.    40.    40.    47.13  60.    80.     0.   100.\n",
      "  37.31  20.    60.    -0.    60.    20.   100.    20.    -0.     0.\n",
      "  57.79  80.    53.88   0.    47.68  80.    43.09  20.    17.69  59.19\n",
      "  60.    60.    45.57  60.     0.    20.    49.67  60.    20.    41.2\n",
      "  20.    37.77  20.    20.    54.57   0.    20.    -0.    20.    32.7\n",
      "  -0.    45.58  60.    49.78  40.   100.    40.    32.28  15.6   80.\n",
      "  20.    40.    20.51  63.81  20.    60.    20.     0.    39.75  -0.\n",
      "  80.    40.    36.75  80.    67.15  80.    35.59 100.   100.    60.\n",
      "  20.    51.61  40.58  20.   100.    40.    20.   100.    80.    66.15\n",
      "  23.29 100.    37.8   39.6   -0.    28.85  80.    80.    40.    60.\n",
      "   0.    20.    20.    40.    60.    80.    20.    29.84 100.    80.\n",
      "  48.63   0.    54.24  40.    40.   100.    -0.    -0.    80.     0.\n",
      "  80.    -0.    60.    20.    40.     0.    60.    20.    40.34  60.\n",
      "   0.    20.    -0.    60.    20.    61.14  60.    20.     0.     0.\n",
      "  20.    18.52   0.    60.    -0.    20.    80.     0.    -0.    80.\n",
      "  56.7   80.    69.25  -0.   100.    80.    32.18  60.   100.    30.47\n",
      "  52.02  40.    80.    40.    60.    40.    56.93  60.    80.    48.99\n",
      "  20.    60.    20.    60.   100.    60.    40.3   80.    -0.    60.\n",
      "  26.09  49.24  20.    20.    80.    20.    80.    20.    60.    -0.\n",
      "  60.    40.    60.    20.    55.1   20.   100.    80.    20.    40.\n",
      " 100.     0.     0.    60.    40.    60.    60.    60.    27.42 100.\n",
      "  40.    79.01  51.78  20.    20.    -0.    -0.    40.    60.   100.\n",
      "  80.    -0.     0.    -0.    80.    60.75  80.    48.67  60.    40.\n",
      "  80.    20.    60.    80.     0.    80.    20.     0.    40.    80.\n",
      " 100.    40.    20.    60.    34.89   0.    60.     0.    80.    80.\n",
      " 100.    20.    60.    -0.    40.    40.    40.    60.    27.58  -0.\n",
      "   0.    -0.    47.57  20.    20.    53.91  80.    -0.     0.    40.06\n",
      "   0.    42.21  69.13  40.    68.15  60.    -0.    40.    42.75  -0.\n",
      "   0.    80.    40.   100.    40.    60.    80.    27.44 100.    60.\n",
      "  -0.    40.    -0.     0.    20.    60.    20.    80.    20.    75.24\n",
      "  41.3  100.    80.    60.    80.    27.7   20.   100.    20.    -0.\n",
      "  -0.    48.99  60.81  60.     0.    40.    40.    37.78  66.27  48.82\n",
      "  80.    80.   100.    21.36  40.    80.    40.    49.09  40.    20.\n",
      "  60.    40.    35.19  -0.    20.    20.    61.82  60.    -0.     0.\n",
      "  40.    40.    60.    41.8   40.    80.    20.    40.    -0.    40.\n",
      "   0.    20.    37.27  80.    20.    29.16  80.    20.    20.    -0.\n",
      "  24.86  20.     0.    -0.    20.    80.    80.    40.   100.   100.\n",
      "  20.    40.    20.     0.    40.    80.    80.     0.     0.     0.\n",
      "  20.    52.16  60.    40.    -0.    80.    54.24  30.5   80.    20.\n",
      "  20.   100.    60.    20.    80.    80.    20.    49.3   60.    20.\n",
      "   0.    20.    61.78  68.15  20.    22.49  80.    42.56  40.    -0.\n",
      "  80.    60.    40.    20.    20.    20.    -0.    20.    40.   100.\n",
      "  40.    60.    24.37  40.    40.    80.   100.    60.    40.    80.\n",
      "  20.    20.    20.    40.    80.     0.   100.    60.    33.13   0.\n",
      "  60.    20.    -0.     0.    20.    60.    -0.    20.    -0.    80.\n",
      "   0.    58.83  80.    60.     0.    80.     0.    -0.    40.    60.\n",
      "  43.93  41.89  40.   100.     0.    20.    40.    20.   100.    46.95\n",
      "  45.52 100.    60.    33.63  50.66  20.    60.    60.    20.    80.\n",
      "  60.    45.36 100.    -0.     0.    80.    20.     0.    20.     0.\n",
      "  20.    40.    60.   100.    80.     0.    40.    60.    40.    -0.\n",
      "  58.93  60.    65.24 100.    40.    40.     0.    35.97  37.47  20.\n",
      "  60.    20.    60.     0.    20.   100.    60.   100.    63.88  20.\n",
      "  56.62  20.    20.    60.    80.    60.    40.    -0.   100.    -0.\n",
      " 100.    20.   100.   100.    60.    -0.    63.18  60.    45.87  60.\n",
      "  80.    50.87  20.    -0.    80.     0.   100.    41.99  20.     0.\n",
      "  20.   100.    -0.    80.    80.    55.81  36.66  20.    53.46  -0.\n",
      " 100.   100.    80.    72.11  -0.    20.    40.    40.    60.    20.\n",
      "  20.     0.    57.56  80.   100.    60.     0.    59.02  51.04  -0.\n",
      "  -0.    20.    80.    60.    54.21 100.   100.    80.    -0.    46.05\n",
      " 100.    -0.    66.5   27.6    0.    40.    80.    -0.    60.    60.\n",
      "  80.    20.     0.    80.    20.    40.    40.    32.94  41.26  40.\n",
      "  80.    20.   100.    80.    31.67  40.    80.    40.    29.8   80.\n",
      "  51.06 100.    20.    51.18  26.72   0.    60.    40.    60.  ]\n"
     ]
    }
   ],
   "source": [
    "y_pred2= model.predict(X_df_Manq).round(2)\n",
    "print(y_pred2)"
   ]
  }
 ],
 "metadata": {
  "kernelspec": {
   "display_name": "env",
   "language": "python",
   "name": "python3"
  },
  "language_info": {
   "codemirror_mode": {
    "name": "ipython",
    "version": 3
   },
   "file_extension": ".py",
   "mimetype": "text/x-python",
   "name": "python",
   "nbconvert_exporter": "python",
   "pygments_lexer": "ipython3",
   "version": "3.12.1"
  }
 },
 "nbformat": 4,
 "nbformat_minor": 5
}
