{
 "cells": [
  {
   "cell_type": "code",
   "execution_count": 1,
   "metadata": {},
   "outputs": [
    {
     "name": "stdout",
     "output_type": "stream",
     "text": [
      "Requirement already satisfied: pandas in c:\\users\\sara\\documents\\imsp\\data science\\exercice_data_science_adjaho_sara\\env\\lib\\site-packages (2.2.3)\n",
      "Requirement already satisfied: numpy>=1.26.0 in c:\\users\\sara\\documents\\imsp\\data science\\exercice_data_science_adjaho_sara\\env\\lib\\site-packages (from pandas) (2.1.3)\n",
      "Requirement already satisfied: python-dateutil>=2.8.2 in c:\\users\\sara\\documents\\imsp\\data science\\exercice_data_science_adjaho_sara\\env\\lib\\site-packages (from pandas) (2.9.0.post0)\n",
      "Requirement already satisfied: pytz>=2020.1 in c:\\users\\sara\\documents\\imsp\\data science\\exercice_data_science_adjaho_sara\\env\\lib\\site-packages (from pandas) (2025.2)\n",
      "Requirement already satisfied: tzdata>=2022.7 in c:\\users\\sara\\documents\\imsp\\data science\\exercice_data_science_adjaho_sara\\env\\lib\\site-packages (from pandas) (2025.2)\n",
      "Requirement already satisfied: six>=1.5 in c:\\users\\sara\\documents\\imsp\\data science\\exercice_data_science_adjaho_sara\\env\\lib\\site-packages (from python-dateutil>=2.8.2->pandas) (1.17.0)\n",
      "Note: you may need to restart the kernel to use updated packages.\n"
     ]
    },
    {
     "name": "stderr",
     "output_type": "stream",
     "text": [
      "\n",
      "[notice] A new release of pip is available: 23.2.1 -> 25.0.1\n",
      "[notice] To update, run: python.exe -m pip install --upgrade pip\n"
     ]
    },
    {
     "name": "stdout",
     "output_type": "stream",
     "text": [
      "Collecting faker\n",
      "  Obtaining dependency information for faker from https://files.pythonhosted.org/packages/d7/a1/8936bc8e79af80ca38288dd93ed44ed1f9d63beb25447a4c59e746e01f8d/faker-37.1.0-py3-none-any.whl.metadata\n",
      "  Using cached faker-37.1.0-py3-none-any.whl.metadata (15 kB)\n",
      "Requirement already satisfied: tzdata in c:\\users\\sara\\documents\\imsp\\data science\\exercice_data_science_adjaho_sara\\env\\lib\\site-packages (from faker) (2025.2)\n",
      "Using cached faker-37.1.0-py3-none-any.whl (1.9 MB)\n",
      "Installing collected packages: faker\n",
      "Successfully installed faker-37.1.0\n",
      "Note: you may need to restart the kernel to use updated packages.\n"
     ]
    },
    {
     "name": "stderr",
     "output_type": "stream",
     "text": [
      "\n",
      "[notice] A new release of pip is available: 23.2.1 -> 25.0.1\n",
      "[notice] To update, run: python.exe -m pip install --upgrade pip\n"
     ]
    }
   ],
   "source": [
    "%pip install pandas\n",
    "%pip install faker"
   ]
  },
  {
   "cell_type": "code",
   "execution_count": 2,
   "metadata": {},
   "outputs": [],
   "source": [
    "import pandas as pd\n",
    "import sqlite3\n",
    "from faker import Faker"
   ]
  },
  {
   "cell_type": "code",
   "execution_count": 4,
   "metadata": {},
   "outputs": [
    {
     "name": "stdout",
     "output_type": "stream",
     "text": [
      "La base de données 'database.db' a été créée avec succès et les données ont été insérées.\n"
     ]
    }
   ],
   "source": [
    "\n",
    "fake = Faker()\n",
    "db_name = 'database.db'\n",
    "\n",
    "conn = sqlite3.connect(db_name)\n",
    "cursor = conn.cursor()\n",
    "\n",
    "# Créer des table utilisateurs et vehicules\n",
    "cursor.execute('''\n",
    "CREATE TABLE IF NOT EXISTS utilisateurs (\n",
    "    id INTEGER PRIMARY KEY AUTOINCREMENT,\n",
    "    nom TEXT NOT NULL,\n",
    "    email TEXT NOT NULL UNIQUE,\n",
    "    adresse TEXT NOT NULL,\n",
    "    telephone TEXT NOT NULL\n",
    ")\n",
    "''')\n",
    "\n",
    "cursor.execute('''\n",
    "CREATE TABLE IF NOT EXISTS vehicules (\n",
    "    id INTEGER PRIMARY KEY AUTOINCREMENT,\n",
    "    marque TEXT NOT NULL,\n",
    "    modele TEXT NOT NULL,\n",
    "    annee INTEGER NOT NULL,\n",
    "    utilisateur_id INTEGER,\n",
    "    FOREIGN KEY (utilisateur_id) REFERENCES utilisateurs(id)\n",
    ")\n",
    "''')\n",
    "\n",
    "# Insérer des données aléatoires dans la table utilisateurs\n",
    "for _ in range(10):\n",
    "    nom = fake.name()\n",
    "    email = fake.email()\n",
    "    adresse = fake.address()\n",
    "    telephone = fake.phone_number()\n",
    "    cursor.execute('''\n",
    "    INSERT INTO utilisateurs (nom, email, adresse, telephone)\n",
    "    VALUES (?, ?, ?, ?)\n",
    "    ''', (nom, email, adresse, telephone))\n",
    "\n",
    "# Insérer des données aléatoires dans la table vehicules\n",
    "for _ in range(10):\n",
    "    marque = fake.company()\n",
    "    modele = fake.word()\n",
    "    annee = fake.year()\n",
    "    utilisateur_id = fake.random_int(min=1, max=10)\n",
    "    cursor.execute('''\n",
    "    INSERT INTO vehicules (marque, modele, annee, utilisateur_id)\n",
    "    VALUES (?, ?, ?, ?)\n",
    "    ''', (marque, modele, annee, utilisateur_id))\n",
    "\n",
    "conn.commit()\n",
    "\n",
    "print(f\"La base de données '{db_name}' a été créée avec succès et les données ont été insérées.\")\n",
    "\n",
    "conn.close()\n"
   ]
  },
  {
   "cell_type": "code",
   "execution_count": 5,
   "metadata": {},
   "outputs": [
    {
     "name": "stdout",
     "output_type": "stream",
     "text": [
      "Table Utilisateurs:\n",
      "   id               nom                      email  \\\n",
      "0   1       Sandra Soto  mcintyredavid@example.net   \n",
      "1   2      Beverly King      phillip40@example.net   \n",
      "2   3     Jessica Brown         luke51@example.net   \n",
      "3   4      Christine Le       robert15@example.net   \n",
      "4   5  Mr. Harold Moore       amanda74@example.com   \n",
      "\n",
      "                                       adresse           telephone  \n",
      "0         8402 Amy Springs\\nMaryberg, AL 86321        983-999-9989  \n",
      "1     277 Conrad Underpass\\nBeckview, TX 32430        793.875.8191  \n",
      "2   346 Mccarthy Vista\\nCummingsview, WI 67873        577-709-1855  \n",
      "3                    USNV Bowman\\nFPO AP 72191  342-302-4287x55990  \n",
      "4  561 Harris Court\\nWest Connortown, IL 39823  957.309.3220x08716  \n"
     ]
    }
   ],
   "source": [
    "# Se connecter à la base de données SQLite\n",
    "conn = sqlite3.connect('database.db')\n",
    "\n",
    "# Définir la requête SQL pour récupérer des données des tables 'utilisateurs''\n",
    "query_utilisateurs = \"SELECT * FROM utilisateurs;\"\n",
    "\n",
    "# Exécuter la requête SQL pour 'utilisateurs' et charger les résultats dans un DataFrame pandas\n",
    "df_utilisateurs = pd.read_sql_query(query_utilisateurs, conn)\n",
    "\n",
    "# Afficher les 5 premières lignes du DataFrame 'utilisateurs'\n",
    "print(\"Table Utilisateurs:\")\n",
    "print(df_utilisateurs.head())\n",
    "\n",
    "# Fermer la connexion à la base de données\n",
    "conn.close()\n"
   ]
  }
 ],
 "metadata": {
  "kernelspec": {
   "display_name": "env",
   "language": "python",
   "name": "python3"
  },
  "language_info": {
   "codemirror_mode": {
    "name": "ipython",
    "version": 3
   },
   "file_extension": ".py",
   "mimetype": "text/x-python",
   "name": "python",
   "nbconvert_exporter": "python",
   "pygments_lexer": "ipython3",
   "version": "3.12.1"
  }
 },
 "nbformat": 4,
 "nbformat_minor": 2
}
